{
 "cells": [
  {
   "cell_type": "code",
   "execution_count": null,
   "id": "d4cc4625",
   "metadata": {},
   "outputs": [],
   "source": [
    "def is_obsticle(x,y,data):\n",
    "#     data = {stagod..gamestate}\n",
    "    tiles = data[\"gameState\"][\"map\"][\"tiles\"]\n",
    "    for qs in tiles:\n",
    "        for rs in qs:\n",
    "#             print(rs) = \"{\"q\": 0,\n",
    "#                         \"r\": -14,\n",
    "#                         \"entity\": {\"type\": \"EMPTY\"},\n",
    "#                         \"tileType\": \"NORMAL\"}\"\n",
    "            if x == rs[\"q\"] and y == rs[\"r\"] and  rs[\"entity\"][\"type\"] in [\"ASTEROID\", \"BLACKHOLE\",\"BOSS\"]:\n",
    "                return  False\n",
    "    return\n",
    "        \n",
    "            \n",
    "    asteroid \"entity\": {\n",
    "                \"type\": \"ASTEROID\",\n",
    "    blackhole    \"entity\": {\n",
    "                \"type\": \"BLACKHOLE\"\n",
    "    boss       \"entity\": {\n",
    "            \"type\": \"BOSS\","
   ]
  },
  {
   "cell_type": "code",
   "execution_count": null,
   "id": "47527b54",
   "metadata": {},
   "outputs": [],
   "source": [
    "def invalid_move(x,y,data):\n",
    "    if x not in range(-14,14):\n",
    "        return False\n",
    "    if y not in range(-14,14):\n",
    "        return False\n",
    "    if is_obsticle(x,y,data):\n",
    "        return False"
   ]
  }
 ],
 "metadata": {
  "kernelspec": {
   "display_name": "Python 3 (ipykernel)",
   "language": "python",
   "name": "python3"
  },
  "language_info": {
   "codemirror_mode": {
    "name": "ipython",
    "version": 3
   },
   "file_extension": ".py",
   "mimetype": "text/x-python",
   "name": "python",
   "nbconvert_exporter": "python",
   "pygments_lexer": "ipython3",
   "version": "3.10.9"
  }
 },
 "nbformat": 4,
 "nbformat_minor": 5
}
