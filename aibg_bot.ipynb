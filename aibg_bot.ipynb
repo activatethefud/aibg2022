{
 "cells": [
  {
   "cell_type": "code",
   "execution_count": 53,
   "metadata": {},
   "outputs": [],
   "source": [
    "import requests"
   ]
  },
  {
   "cell_type": "code",
   "execution_count": null,
   "metadata": {},
   "outputs": [],
   "source": [
    "# CONSTANTS\n",
    "\n",
    "SERVER_IP = 'aibg2022.com'\n",
    "CONNECTION_JSON = {\n",
    "    'username': 'JutricKafica',\n",
    "    'password': 'q8K^Hx9%L6'\n",
    "}"
   ]
  },
  {
   "cell_type": "code",
   "execution_count": null,
   "metadata": {},
   "outputs": [],
   "source": [
    "# HELPER functions\n",
    "\n",
    "def is_valid_coords(pos):\n",
    "    q, r = pos[0], pos[1]\n",
    "    if q < -14 or q > 14:\n",
    "        return False\n",
    "    if r < -14 or r > 14:\n",
    "        return False\n",
    "    if q + r < -14 or q + r > 14:\n",
    "        return False\n",
    "    return True\n",
    "\n",
    "def is_valid(pos, map):\n",
    "    q, r = pos[0], pos[1]\n",
    "\n",
    "    if not is_valid_coords(pos):\n",
    "        return False\n",
    "    \n",
    "    for tile in map['tiles']:\n",
    "        if int(tile['q']) == q and int(tile['r']) == r:\n",
    "            pass\n",
    "\n",
    "def get_adjacent(pos):\n",
    "    q, r = pos[0], pos[1]\n",
    "    adjacent = [(q, r - 1), (q + 1, r - 1), (q + 1, r), (q, r + 1), (q - 1, r + 1), (q - 1, r)]\n",
    "    return [pos for pos in adjacent if is_valid_coords(pos)]"
   ]
  },
  {
   "cell_type": "code",
   "execution_count": null,
   "metadata": {},
   "outputs": [],
   "source": [
    "# API functions\n",
    "\n",
    "def craft_aibg_url(url, port):\n",
    "    return f'http://{SERVER_IP}:{port}/{url}'\n",
    "\n",
    "# 1 /user/login POST\n",
    "def get_token():\n",
    "    r = requests.post(craft_aibg_url('user/login', 8081), json=CONNECTION_JSON)\n",
    "    return r.json()['token']\n",
    "\n",
    "# 2 /game/joinGame GET\n",
    "def connect_to_game(token):\n",
    "    header = {\n",
    "        'Authorization': f'Bearer {token}',\n",
    "    }\n",
    "    r = requests.get(craft_aibg_url('game/joinGame', 8081), headers=header)\n",
    "    print(r.json())\n",
    "\n",
    "# 3 /game/doAction POST\n",
    "def send_action(token, pos, action: str = 'move'):\n",
    "    header = {\n",
    "        'Authorization': f'Bearer {token}',\n",
    "    }\n",
    "    body = {\n",
    "        'action': f'{action},{pos[0]},{pos[1]}'\n",
    "    }\n",
    "    r = requests.post(craft_aibg_url('game/doAction', 8081), headers=header, json=body)\n",
    "    print(r.json())\n",
    "\n",
    "    return r.json() # this should be the game state, if this is a valid move\n",
    "\n",
    "# 4 /game/train POST\n",
    "def create_game(token, mapID = 1, playerID = 1, time = 1):\n",
    "    header = {\n",
    "        'Authorization': f'Bearer {token}',\n",
    "    }\n",
    "    body = {\n",
    "        'mapName': f'test{mapID}.txt',\n",
    "        'playerIdx': f'{playerID}',\n",
    "        'time': f'{time}'\n",
    "    }\n",
    "    r = requests.post(craft_aibg_url('game/train', 8081), headers=header, json=body)\n",
    "    print(r.json())\n",
    "\n",
    "# 5 /game/actionTrain POST\n",
    "def move_agent(token, pos):\n",
    "    header = {\n",
    "        'Authorization': f'Bearer {token}',\n",
    "    }\n",
    "    body = {\n",
    "        'action': f'move,{pos[0]},{pos[1]}'\n",
    "    }\n",
    "    r = requests.post(craft_aibg_url('game/actionTrain', 8081), headers=header, json=body)\n",
    "    print(r.json())\n",
    "\n",
    "    return r.json() # this should be the game state, if this is a valid move"
   ]
  },
  {
   "cell_type": "code",
   "execution_count": 54,
   "metadata": {},
   "outputs": [
    {
     "name": "stdout",
     "output_type": "stream",
     "text": [
      "{'message': 'TrainingGame sa id-ijem: 1uspešno napravljen.'}\n"
     ]
    }
   ],
   "source": [
    "TOKEN = get_token()\n",
    "create_game(TOKEN)"
   ]
  },
  {
   "cell_type": "code",
   "execution_count": 1,
   "metadata": {},
   "outputs": [
    {
     "ename": "NameError",
     "evalue": "name 'move_agent' is not defined",
     "output_type": "error",
     "traceback": [
      "\u001b[1;31m---------------------------------------------------------------------------\u001b[0m",
      "\u001b[1;31mNameError\u001b[0m                                 Traceback (most recent call last)",
      "Cell \u001b[1;32mIn[1], line 1\u001b[0m\n\u001b[1;32m----> 1\u001b[0m move_agent(TOKEN, (\u001b[39m-\u001b[39m\u001b[39m6\u001b[39m, \u001b[39m-\u001b[39m\u001b[39m10\u001b[39m))\n",
      "\u001b[1;31mNameError\u001b[0m: name 'move_agent' is not defined"
     ]
    }
   ],
   "source": [
    "move_agent(TOKEN, (-6, -7))"
   ]
  },
  {
   "cell_type": "code",
   "execution_count": 42,
   "metadata": {},
   "outputs": [
    {
     "data": {
      "text/plain": [
       "[(-13, -1), (-13, 0), (-14, 1)]"
      ]
     },
     "execution_count": 42,
     "metadata": {},
     "output_type": "execute_result"
    }
   ],
   "source": [
    "get_adjacent((-14, 0))"
   ]
  }
 ],
 "metadata": {
  "kernelspec": {
   "display_name": "Python 3",
   "language": "python",
   "name": "python3"
  },
  "language_info": {
   "codemirror_mode": {
    "name": "ipython",
    "version": 3
   },
   "file_extension": ".py",
   "mimetype": "text/x-python",
   "name": "python",
   "nbconvert_exporter": "python",
   "pygments_lexer": "ipython3",
   "version": "3.9.0"
  },
  "orig_nbformat": 4,
  "vscode": {
   "interpreter": {
    "hash": "ea77b48824dfbf82d18369be5a529cf2cc3086b50a65afcafb67d5cbd4abcd0f"
   }
  }
 },
 "nbformat": 4,
 "nbformat_minor": 2
}
