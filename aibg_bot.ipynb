{
 "cells": [
  {
   "cell_type": "code",
   "execution_count": 1,
   "metadata": {},
   "outputs": [],
   "source": [
    "import requests\n",
    "\n",
    "SERVER_IP = 'aibg2022.com'\n",
    "CONNECTION_JSON = {\n",
    "    'username': 'JutricKafica',\n",
    "    'password': 'q8K^Hx9%L6'\n",
    "}\n",
    "\n",
    "def craft_aibg_url(url, port):\n",
    "    return f'http://{SERVER_IP}:{port}/{url}'\n",
    "\n",
    "def get_token():\n",
    "    r = requests.post(craft_aibg_url('user/login', 8081), json=CONNECTION_JSON)\n",
    "    return r.json()['token']\n",
    "\n",
    "def create_game(token):\n",
    "    header = {\n",
    "        'Authorization': f'Bearer {token}',\n",
    "    }\n",
    "    body = {\n",
    "        'mapName': 'test1.txt',\n",
    "        'playerIdx': '1',\n",
    "        'time': '1'\n",
    "    }\n",
    "    r = requests.post(craft_aibg_url('game/train', 8081), headers=header, json=body)\n",
    "    print(r.json())\n",
    "\n",
    "def connect_to_game(token):\n",
    "    header = {\n",
    "        'Authorization': f'Bearer {token}',\n",
    "    }\n",
    "    r = requests.get(craft_aibg_url('game/joinGame', 8081), headers=header)\n",
    "    print(r.text)\n",
    "    #print(r.status_code)\n",
    "\n",
    "def move_agent(token, pos):\n",
    "    header = {\n",
    "        'Authorization': f'Bearer {token}',\n",
    "    }\n",
    "    body = {\n",
    "        'action': f'move,{pos[0]},{pos[1]}'\n",
    "    }\n",
    "    r = requests.get(craft_aibg_url('game/doAction', 8081), headers=header, json=body)"
   ]
  },
  {
   "cell_type": "code",
   "execution_count": 2,
   "metadata": {},
   "outputs": [
    {
     "name": "stdout",
     "output_type": "stream",
     "text": [
      "{'message': 'TrainingGame sa id-ijem: 5uspešno napravljen.'}\n"
     ]
    }
   ],
   "source": [
    "TOKEN = get_token()\n",
    "create_game(TOKEN)"
   ]
  },
  {
   "cell_type": "code",
   "execution_count": null,
   "metadata": {},
   "outputs": [],
   "source": [
    "def get_adjacent(pos):\n",
    "    pass"
   ]
  }
 ],
 "metadata": {
  "kernelspec": {
   "display_name": "Python 3",
   "language": "python",
   "name": "python3"
  },
  "language_info": {
   "codemirror_mode": {
    "name": "ipython",
    "version": 3
   },
   "file_extension": ".py",
   "mimetype": "text/x-python",
   "name": "python",
   "nbconvert_exporter": "python",
   "pygments_lexer": "ipython3",
   "version": "3.11.1"
  },
  "orig_nbformat": 4,
  "vscode": {
   "interpreter": {
    "hash": "f3cdc52813d611b76049396f315a064abd3fa88a25278aef17a726f7cebcad45"
   }
  }
 },
 "nbformat": 4,
 "nbformat_minor": 2
}
