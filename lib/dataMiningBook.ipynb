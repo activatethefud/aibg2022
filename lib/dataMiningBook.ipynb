{
 "cells": [
  {
   "cell_type": "code",
   "execution_count": 7,
   "metadata": {},
   "outputs": [],
   "source": [
    "import agent_wrapper"
   ]
  },
  {
   "cell_type": "code",
   "execution_count": 8,
   "metadata": {},
   "outputs": [],
   "source": [
    "import json\n",
    "import randomAgents"
   ]
  },
  {
   "cell_type": "code",
   "execution_count": 9,
   "metadata": {},
   "outputs": [],
   "source": [
    "def load_initial_state():\n",
    "    path = \"../initial_state.json\"\n",
    "    newState = None\n",
    "\n",
    "    with open(path) as f:\n",
    "        newState = json.load(f)\n",
    "    \n",
    "    # newState['gameState'] = json.loads(newState['gameState'])\n",
    "\n",
    "    return newState"
   ]
  },
  {
   "cell_type": "code",
   "execution_count": 10,
   "metadata": {},
   "outputs": [
    {
     "name": "stdout",
     "output_type": "stream",
     "text": [
      "{'map': {'size': 29, 'tiles': [[{'q': 0, 'r': -14, 'entity': {'type': 'EMPTY'}, 'tileType': 'NORMAL'}, {'q': 1, 'r': -14, 'entity': {'type': 'EMPTY'}, 'tileType': 'NORMAL'}, {'q': 2, 'r': -14, 'entity\n"
     ]
    }
   ],
   "source": [
    "# test load initial state\n",
    "ts = load_initial_state()\n",
    "print(str(ts)[:200])"
   ]
  },
  {
   "cell_type": "code",
   "execution_count": 11,
   "metadata": {},
   "outputs": [],
   "source": [
    "agentID = 'random'\n",
    "# agentID = 'legal_random'"
   ]
  },
  {
   "cell_type": "code",
   "execution_count": 12,
   "metadata": {},
   "outputs": [],
   "source": [
    "state = load_initial_state()\n",
    "\n",
    "while True:\n",
    "    if 'gameState' in state.keys():\n",
    "        if isinstance(state['gameState'], str):\n",
    "            state['gameState'] = json.loads(state['gameState'])\n",
    "        \n",
    "        state = state['gameState']\n",
    "\n",
    "    if agentID == 'random':\n",
    "        action, q, r = randomAgents.pick_rand_action(state) \n",
    "    elif agentID == 'legal_random':\n",
    "        action, q, r = randomAgents.pick_random_valid_action(state) \n",
    "    else:\n",
    "        print(\"INVALID AGENT ID\")\n",
    "        break\n",
    "\n",
    "    # x = q; y = r\n",
    "    # Based on:\n",
    "    # {\n",
    "    #     \"q\": 7,\n",
    "    #     \"r\": -14,\n",
    "    #     \"entity\": {\n",
    "    #          \"type\": \"EMPTY\"\n",
    "    #     },\n",
    "    #     \"tileType\": \"NORMAL\"\n",
    "    # }\n",
    "\n",
    "    # state, isGoodResp = agent_wrapper.attack(x, y) # or move, same shit\n",
    "    # return (state, isGoodResp)\n",
    "    (newState, isGoodResponse) = randomAgents.do_action(agentID, state, action, q, r) \n",
    "    \n",
    "    if isGoodResponse:\n",
    "        state = newState\n",
    "    else:\n",
    "        state = load_initial_state()\n"
   ]
  }
 ],
 "metadata": {
  "kernelspec": {
   "display_name": "Python 3",
   "language": "python",
   "name": "python3"
  },
  "language_info": {
   "codemirror_mode": {
    "name": "ipython",
    "version": 3
   },
   "file_extension": ".py",
   "mimetype": "text/x-python",
   "name": "python",
   "nbconvert_exporter": "python",
   "pygments_lexer": "ipython3",
   "version": "3.9.0"
  },
  "orig_nbformat": 4,
  "vscode": {
   "interpreter": {
    "hash": "ea77b48824dfbf82d18369be5a529cf2cc3086b50a65afcafb67d5cbd4abcd0f"
   }
  }
 },
 "nbformat": 4,
 "nbformat_minor": 2
}
