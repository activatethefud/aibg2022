{
 "cells": [
  {
   "cell_type": "code",
   "execution_count": 16,
   "metadata": {},
   "outputs": [],
   "source": [
    "import agent_wrapper"
   ]
  },
  {
   "cell_type": "code",
   "execution_count": 17,
   "metadata": {},
   "outputs": [],
   "source": [
    "import json\n",
    "import randomAgents"
   ]
  },
  {
   "cell_type": "code",
   "execution_count": 23,
   "metadata": {},
   "outputs": [],
   "source": [
    "def load_initial_state():\n",
    "    path = \"../initial_state.json\"\n",
    "    newState = None\n",
    "\n",
    "    with open(path) as f:\n",
    "        newState = json.load(f)\n",
    "    \n",
    "    # newState['gameState'] = json.loads(newState['gameState'])\n",
    "\n",
    "    return newState"
   ]
  },
  {
   "cell_type": "code",
   "execution_count": 24,
   "metadata": {},
   "outputs": [
    {
     "name": "stdout",
     "output_type": "stream",
     "text": [
      "{'map': {'size': 29, 'tiles': [[{'q': 0, 'r': -14, 'entity': {'type': 'EMPTY'}, 'tileType': 'NORMAL'}, {'q': 1, 'r': -14, 'entity': {'type': 'EMPTY'}, 'tileType': 'NORMAL'}, {'q': 2, 'r': -14, 'entity\n"
     ]
    }
   ],
   "source": [
    "# test load initial state\n",
    "ts = load_initial_state()\n",
    "print(str(ts)[:200])"
   ]
  },
  {
   "cell_type": "code",
   "execution_count": 20,
   "metadata": {},
   "outputs": [],
   "source": [
    "agentID = 'random'\n",
    "# agentID = 'legal_random'"
   ]
  },
  {
   "cell_type": "code",
   "execution_count": 26,
   "metadata": {},
   "outputs": [
    {
     "name": "stdout",
     "output_type": "stream",
     "text": [
      "[{'type': 'PLAYER', 'r': -7, 'q': -7, 'playerIdx': 1, 'name': 'JutricKafica', 'health': 1000, 'power': 150, 'level': 1, 'kills': 0, 'deaths': 0, 'score': 0, 'trapped': False, 'trapDuration': 0, 'kd': 0.0}, {'type': 'BOT', 'r': -7, 'q': 14, 'playerIdx': 2, 'name': 'Bot2', 'health': 1000, 'power': 150, 'level': 1, 'kills': 0, 'deaths': 0, 'score': 0, 'trapped': False, 'trapDuration': 0, 'kd': 0.0}, {'type': 'BOT', 'r': 7, 'q': -14, 'playerIdx': 3, 'name': 'Bot3', 'health': 1000, 'power': 150, 'level': 1, 'kills': 0, 'deaths': 0, 'score': 0, 'trapped': False, 'trapDuration': 0, 'kd': 0.0}, {'type': 'BOT', 'r': 7, 'q': 7, 'playerIdx': 4, 'name': 'Bot4', 'health': 1000, 'power': 150, 'level': 1, 'kills': 0, 'deaths': 0, 'score': 0, 'trapped': False, 'trapDuration': 0, 'kd': 0.0}]\n"
     ]
    },
    {
     "ename": "TypeError",
     "evalue": "move() missing 1 required positional argument: 'y'",
     "output_type": "error",
     "traceback": [
      "\u001b[1;31m---------------------------------------------------------------------------\u001b[0m",
      "\u001b[1;31mTypeError\u001b[0m                                 Traceback (most recent call last)",
      "Cell \u001b[1;32mIn[26], line 26\u001b[0m\n\u001b[0;32m     11\u001b[0m     \u001b[39mbreak\u001b[39;00m\n\u001b[0;32m     13\u001b[0m \u001b[39m# x = q; y = r\u001b[39;00m\n\u001b[0;32m     14\u001b[0m \u001b[39m# Based on:\u001b[39;00m\n\u001b[0;32m     15\u001b[0m \u001b[39m# {\u001b[39;00m\n\u001b[1;32m   (...)\u001b[0m\n\u001b[0;32m     24\u001b[0m \u001b[39m# state, isGoodResp = agent_wrapper.attack(x, y) # or move, same shit\u001b[39;00m\n\u001b[0;32m     25\u001b[0m \u001b[39m# return (state, isGoodResp)\u001b[39;00m\n\u001b[1;32m---> 26\u001b[0m (newState, isGoodResponse) \u001b[39m=\u001b[39m randomAgents\u001b[39m.\u001b[39;49mdo_action(agentID, action, q, r) \n\u001b[0;32m     28\u001b[0m \u001b[39mprint\u001b[39m(\u001b[39m\"\u001b[39m\u001b[39mDid action\u001b[39m\u001b[39m\"\u001b[39m)\n\u001b[0;32m     30\u001b[0m \u001b[39mif\u001b[39;00m isGoodResponse:\n",
      "File \u001b[1;32mc:\\Users\\Luka\\Desktop\\aibg2022\\lib\\randomAgents.py:123\u001b[0m, in \u001b[0;36mdo_action\u001b[1;34m(agentID, action, x, y)\u001b[0m\n\u001b[0;32m    121\u001b[0m state, isGoodResp \u001b[39m=\u001b[39m \u001b[39mNone\u001b[39;00m, \u001b[39mNone\u001b[39;00m\n\u001b[0;32m    122\u001b[0m \u001b[39mif\u001b[39;00m action \u001b[39m==\u001b[39m \u001b[39m'\u001b[39m\u001b[39mmove\u001b[39m\u001b[39m'\u001b[39m:\n\u001b[1;32m--> 123\u001b[0m     state, isGoodResp \u001b[39m=\u001b[39m agent_wrapper\u001b[39m.\u001b[39;49mmove(agentID, x, y)\n\u001b[0;32m    124\u001b[0m \u001b[39melse\u001b[39;00m:\n\u001b[0;32m    125\u001b[0m     state, isGoodResp \u001b[39m=\u001b[39m agent_wrapper\u001b[39m.\u001b[39mattack(agentID, x, y)\n",
      "\u001b[1;31mTypeError\u001b[0m: move() missing 1 required positional argument: 'y'"
     ]
    }
   ],
   "source": [
    "state = load_initial_state()\n",
    "\n",
    "while True:\n",
    "    print(state[\"scoreBoard\"][\"players\"])\n",
    "    if agentID == 'random':\n",
    "        action, q, r = randomAgents.pick_rand_action(state) \n",
    "    elif agentID == 'legal_random':\n",
    "        action, q, r = randomAgents.pick_random_valid_action(state) \n",
    "    else:\n",
    "        print(\"INVALID AGENT ID\")\n",
    "        break\n",
    "\n",
    "    # x = q; y = r\n",
    "    # Based on:\n",
    "    # {\n",
    "    #     \"q\": 7,\n",
    "    #     \"r\": -14,\n",
    "    #     \"entity\": {\n",
    "    #          \"type\": \"EMPTY\"\n",
    "    #     },\n",
    "    #     \"tileType\": \"NORMAL\"\n",
    "    # }\n",
    "\n",
    "    # state, isGoodResp = agent_wrapper.attack(x, y) # or move, same shit\n",
    "    # return (state, isGoodResp)\n",
    "    (newState, isGoodResponse) = randomAgents.do_action(agentID, action, q, r) \n",
    "\n",
    "    print(\"Did action\")\n",
    "    \n",
    "    if isGoodResponse:\n",
    "        state = newState\n",
    "    else:\n",
    "        state = load_initial_state()\n"
   ]
  }
 ],
 "metadata": {
  "kernelspec": {
   "display_name": "Python 3",
   "language": "python",
   "name": "python3"
  },
  "language_info": {
   "codemirror_mode": {
    "name": "ipython",
    "version": 3
   },
   "file_extension": ".py",
   "mimetype": "text/x-python",
   "name": "python",
   "nbconvert_exporter": "python",
   "pygments_lexer": "ipython3",
   "version": "3.9.0"
  },
  "orig_nbformat": 4,
  "vscode": {
   "interpreter": {
    "hash": "ea77b48824dfbf82d18369be5a529cf2cc3086b50a65afcafb67d5cbd4abcd0f"
   }
  }
 },
 "nbformat": 4,
 "nbformat_minor": 2
}
