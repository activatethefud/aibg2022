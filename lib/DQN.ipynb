{
 "cells": [
  {
   "cell_type": "code",
   "execution_count": 25,
   "id": "052838bd",
   "metadata": {},
   "outputs": [],
   "source": [
    "import db\n",
    "import numpy as np\n",
    "from tensorflow import keras\n",
    "from serializer import GameState1DSerializer\n",
    "import sys\n",
    "import datetime as dt\n",
    "import numpy as np\n",
    "\n",
    "gamma = 0.99\n",
    "\n",
    "def prepare_training_data(from_timestamp = 0):\n",
    "    \n",
    "    if(isinstance(from_timestamp, dt.datetime)):\n",
    "        from_timestamp = int(from_timestamp.timestamp())\n",
    "\n",
    "    _seralizer = GameState1DSerializer()\n",
    "    replays = db.get_all_experiences({ \"time\": { \"$gt\": from_timestamp}})\n",
    "\n",
    "    serialized = [\n",
    "        _seralizer.serialize_single(x) for x in replays\n",
    "    ]\n",
    "    \n",
    "    rewards = [\n",
    "        x[\"r\"] for x in replays\n",
    "    ]\n",
    "\n",
    "    return serialized, rewards\n",
    "\n",
    "model = keras.Sequential()\n",
    "model.add(keras.layers.Input(shape=(3*628,)))\n",
    "model.add(keras.layers.Dense(128, activation='relu'))\n",
    "model.add(keras.layers.Dense(64, activation='relu'))\n",
    "model.add(keras.layers.Dense(1, activation='linear'))\n",
    "\n",
    "# Compile the model with an optimizer and a loss function\n",
    "model.compile(optimizer='adam', loss='mean_squared_error')\n",
    "\n",
    "def create_targets(model, training_data, rewards):\n",
    "    \n",
    "    n = len(training_data)\n",
    "    model_inputs = []\n",
    "    \n",
    "    for i in range(2, n):\n",
    "        model_inputs.append(np.hstack(training_data[i], training_data[i-1], training_data[i-2]))\n",
    "    \n",
    "    targets = []\n",
    "    return model_inputs, targets\n",
    "    \n",
    "    \n"
   ]
  },
  {
   "cell_type": "code",
   "execution_count": null,
   "id": "2b244dbf",
   "metadata": {},
   "outputs": [],
   "source": [
    "serialized, rewards = prepare_training_data(dt.datetime.now() - dt.timedelta(hours = 3))"
   ]
  },
  {
   "cell_type": "code",
   "execution_count": 24,
   "id": "31b9ccaf",
   "metadata": {},
   "outputs": [
    {
     "data": {
      "text/plain": [
       "[]"
      ]
     },
     "execution_count": 24,
     "metadata": {},
     "output_type": "execute_result"
    }
   ],
   "source": [
    "serialized"
   ]
  },
  {
   "cell_type": "code",
   "execution_count": null,
   "id": "daa008d5",
   "metadata": {},
   "outputs": [],
   "source": [
    "\n",
    "r = prepare_training_data(0)\n",
    "# Define the model architecture\n",
    "model = keras.Sequential()\n",
    "model.add(keras.layers.Input(shape=(3*628,)))\n",
    "model.add(keras.layers.Dense(128, activation='relu'))\n",
    "model.add(keras.layers.Dense(64, activation='relu'))\n",
    "model.add(keras.layers.Dense(1, activation='linear'))\n",
    "\n",
    "# Compile the model with an optimizer and a loss function\n",
    "model.compile(optimizer='adam', loss='mean_squared_error')\n",
    "\n",
    "# Generate some synthetic data to train the model\n",
    "state = np.random.rand(628)\n",
    "target = np.random.rand()\n",
    "\n",
    "# Train the model\n",
    "model.fit(state, target)"
   ]
  }
 ],
 "metadata": {
  "kernelspec": {
   "display_name": "Python 3 (ipykernel)",
   "language": "python",
   "name": "python3"
  },
  "language_info": {
   "codemirror_mode": {
    "name": "ipython",
    "version": 3
   },
   "file_extension": ".py",
   "mimetype": "text/x-python",
   "name": "python",
   "nbconvert_exporter": "python",
   "pygments_lexer": "ipython3",
   "version": "3.8.10"
  }
 },
 "nbformat": 4,
 "nbformat_minor": 5
}
