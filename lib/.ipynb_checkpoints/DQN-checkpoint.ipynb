{
 "cells": [
  {
   "cell_type": "code",
   "execution_count": 6,
   "id": "1393209f",
   "metadata": {},
   "outputs": [],
   "source": [
    "import db\n",
    "import numpy as np\n",
    "from tensorflow import keras\n",
    "from serializer import GameState1DSerializer\n",
    "import sys\n",
    "import datetime as dt\n",
    "import numpy as np\n",
    "\n",
    "gamma = 0.99\n",
    "\n",
    "def prepare_training_data(from_timestamp = int(dt.datetime.now().timestamp())):\n",
    "\n",
    "    _seralizer = GameState1DSerializer()\n",
    "    replays = db.get_all_experiences()\n",
    "\n",
    "    serialized = [\n",
    "        _seralizer.serialize_single(x) for x in replays\n",
    "    ]\n",
    "    \n",
    "    rewards = [\n",
    "        x[\"reward\"] for x in replays\n",
    "    ]\n",
    "\n",
    "    return serialized, rewards\n",
    "\n",
    "model = keras.Sequential()\n",
    "model.add(keras.layers.Input(shape=(3*628,)))\n",
    "model.add(keras.layers.Dense(128, activation='relu'))\n",
    "model.add(keras.layers.Dense(64, activation='relu'))\n",
    "model.add(keras.layers.Dense(1, activation='linear'))\n",
    "\n",
    "# Compile the model with an optimizer and a loss function\n",
    "model.compile(optimizer='adam', loss='mean_squared_error')\n",
    "\n",
    "def create_targets(model, training_data, rewards):\n",
    "    \n",
    "    n = len(training_data)\n",
    "    model_inputs = []\n",
    "    \n",
    "    for i in range(2, n):\n",
    "        model_inputs.append(np.hstack(training_data[i], training_data[i-1], training_data[i-2]))\n",
    "    \n",
    "    targets = []\n",
    "    return model_inputs, targets\n",
    "    \n",
    "    \n"
   ]
  },
  {
   "cell_type": "code",
   "execution_count": 7,
   "id": "93030e5a",
   "metadata": {},
   "outputs": [],
   "source": [
    "r = prepare_training_data(0)"
   ]
  },
  {
   "cell_type": "code",
   "execution_count": 8,
   "id": "651d238b",
   "metadata": {},
   "outputs": [
    {
     "name": "stderr",
     "output_type": "stream",
     "text": [
      "/tmp/ipykernel_37326/2381716142.py:1: VisibleDeprecationWarning: Creating an ndarray from ragged nested sequences (which is a list-or-tuple of lists-or-tuples-or ndarrays with different lengths or shapes) is deprecated. If you meant to do this, you must specify 'dtype=object' when creating the ndarray.\n",
      "  np.array(r).shape\n"
     ]
    },
    {
     "data": {
      "text/plain": [
       "(1190,)"
      ]
     },
     "execution_count": 8,
     "metadata": {},
     "output_type": "execute_result"
    }
   ],
   "source": []
  },
  {
   "cell_type": "code",
   "execution_count": null,
   "id": "1b5344d3",
   "metadata": {},
   "outputs": [],
   "source": [
    "\n",
    "r = prepare_training_data(0)\n",
    "# Define the model architecture\n",
    "model = keras.Sequential()\n",
    "model.add(keras.layers.Input(shape=(3*628,)))\n",
    "model.add(keras.layers.Dense(128, activation='relu'))\n",
    "model.add(keras.layers.Dense(64, activation='relu'))\n",
    "model.add(keras.layers.Dense(1, activation='linear'))\n",
    "\n",
    "# Compile the model with an optimizer and a loss function\n",
    "model.compile(optimizer='adam', loss='mean_squared_error')\n",
    "\n",
    "# Generate some synthetic data to train the model\n",
    "state = np.random.rand(628)\n",
    "target = np.random.rand()\n",
    "\n",
    "# Train the model\n",
    "model.fit(state, target)"
   ]
  }
 ],
 "metadata": {
  "kernelspec": {
   "display_name": "Python 3 (ipykernel)",
   "language": "python",
   "name": "python3"
  },
  "language_info": {
   "codemirror_mode": {
    "name": "ipython",
    "version": 3
   },
   "file_extension": ".py",
   "mimetype": "text/x-python",
   "name": "python",
   "nbconvert_exporter": "python",
   "pygments_lexer": "ipython3",
   "version": "3.8.10"
  }
 },
 "nbformat": 4,
 "nbformat_minor": 5
}
